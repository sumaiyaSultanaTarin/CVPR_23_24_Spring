{
  "cells": [
    {
      "cell_type": "markdown",
      "metadata": {
        "id": "view-in-github",
        "colab_type": "text"
      },
      "source": [
        "<a href=\"https://colab.research.google.com/github/sumaiyaSultanaTarin/CVPR_23_24_Spring/blob/main/FedAvg_Code.ipynb\" target=\"_parent\"><img src=\"https://colab.research.google.com/assets/colab-badge.svg\" alt=\"Open In Colab\"/></a>"
      ]
    },
    {
      "cell_type": "code",
      "execution_count": null,
      "metadata": {
        "colab": {
          "base_uri": "https://localhost:8080/"
        },
        "id": "_J8lB70dMvwW",
        "outputId": "1bcc0ca9-e413-4f3f-807a-899b852c843a"
      },
      "outputs": [
        {
          "name": "stdout",
          "output_type": "stream",
          "text": [
            "Reading package lists... Done\n",
            "Building dependency tree... Done\n",
            "Reading state information... Done\n",
            "git is already the newest version (1:2.34.1-1ubuntu1.10).\n",
            "0 upgraded, 0 newly installed, 0 to remove and 45 not upgraded.\n"
          ]
        }
      ],
      "source": [
        "!apt-get install git"
      ]
    },
    {
      "cell_type": "markdown",
      "source": [
        "# FedAvg\n",
        "\n",
        "\n",
        "\n",
        "\n"
      ],
      "metadata": {
        "id": "JyokWf2u4YsQ"
      }
    },
    {
      "cell_type": "code",
      "execution_count": null,
      "metadata": {
        "colab": {
          "base_uri": "https://localhost:8080/"
        },
        "id": "W0BOgqFHOASY",
        "outputId": "4f52f079-c125-4161-ea9a-0ea58166f460"
      },
      "outputs": [
        {
          "name": "stdout",
          "output_type": "stream",
          "text": [
            "Cloning into 'FedAvg-Algorithm'...\n",
            "remote: Enumerating objects: 68, done.\u001b[K\n",
            "remote: Counting objects: 100% (68/68), done.\u001b[K\n",
            "remote: Compressing objects: 100% (67/67), done.\u001b[K\n",
            "remote: Total 68 (delta 2), reused 64 (delta 1), pack-reused 0\u001b[K\n",
            "Receiving objects: 100% (68/68), 328.72 KiB | 2.03 MiB/s, done.\n",
            "Resolving deltas: 100% (2/2), done.\n"
          ]
        }
      ],
      "source": [
        "!git clone https://github.com/Chelsiehi/FedAvg-Algorithm"
      ]
    },
    {
      "cell_type": "code",
      "execution_count": null,
      "metadata": {
        "colab": {
          "base_uri": "https://localhost:8080/"
        },
        "id": "0lL5jRASPbVF",
        "outputId": "4c53a5f0-cd4e-4aaa-c4e4-53e728f5830e"
      },
      "outputs": [
        {
          "name": "stdout",
          "output_type": "stream",
          "text": [
            "/content/FedAvg-Algorithm\n"
          ]
        }
      ],
      "source": [
        "%cd FedAvg-Algorithm"
      ]
    },
    {
      "cell_type": "code",
      "execution_count": null,
      "metadata": {
        "colab": {
          "base_uri": "https://localhost:8080/"
        },
        "id": "OPXVUfFnPmcP",
        "outputId": "d3fb86f8-5341-4989-ce22-89a782c6b409"
      },
      "outputs": [
        {
          "name": "stdout",
          "output_type": "stream",
          "text": [
            "[Errno 2] No such file or directory: 'FedAvg-Algorithm/.idea'\n",
            "/content/FedAvg-Algorithm\n"
          ]
        }
      ],
      "source": [
        "%cd FedAvg-Algorithm/.idea"
      ]
    },
    {
      "cell_type": "code",
      "execution_count": null,
      "metadata": {
        "colab": {
          "base_uri": "https://localhost:8080/"
        },
        "id": "37Wv53QbP1pg",
        "outputId": "80592c2c-92ea-4ce9-8886-60c01c644815"
      },
      "outputs": [
        {
          "name": "stdout",
          "output_type": "stream",
          "text": [
            "[Errno 2] No such file or directory: 'FedAvg-Algorithm/log'\n",
            "/content/FedAvg-Algorithm\n"
          ]
        }
      ],
      "source": [
        "\n",
        "%cd FedAvg-Algorithm/log\n"
      ]
    },
    {
      "cell_type": "code",
      "execution_count": null,
      "metadata": {
        "colab": {
          "base_uri": "https://localhost:8080/"
        },
        "id": "QVyeCB6dP-RO",
        "outputId": "619a69eb-5107-4300-885b-49c11eacf781"
      },
      "outputs": [
        {
          "name": "stdout",
          "output_type": "stream",
          "text": [
            "log  main.py  models  README.md  run.md  utils\n"
          ]
        }
      ],
      "source": [
        "!ls"
      ]
    },
    {
      "cell_type": "code",
      "execution_count": null,
      "metadata": {
        "colab": {
          "base_uri": "https://localhost:8080/"
        },
        "id": "2BfHpYbLQGdp",
        "outputId": "8796b7ed-86fa-46d4-c34d-6487da1646db"
      },
      "outputs": [
        {
          "name": "stdout",
          "output_type": "stream",
          "text": [
            "[Errno 2] No such file or directory: 'FedAvg-Algorithm/log'\n",
            "/content/FedAvg-Algorithm\n",
            "[Errno 2] No such file or directory: 'FedAvg-Algorithm/main.py'\n",
            "/content/FedAvg-Algorithm\n",
            "[Errno 2] No such file or directory: 'FedAvg-Algorithm/models'\n",
            "/content/FedAvg-Algorithm\n",
            "[Errno 2] No such file or directory: 'FedAvg-Algorithm/run.md'\n",
            "/content/FedAvg-Algorithm\n",
            "[Errno 2] No such file or directory: 'FedAvg-Algorithm/utils'\n",
            "/content/FedAvg-Algorithm\n"
          ]
        }
      ],
      "source": [
        "%cd FedAvg-Algorithm/log\n",
        "%cd FedAvg-Algorithm/main.py\n",
        "%cd FedAvg-Algorithm/models\n",
        "%cd FedAvg-Algorithm/run.md\n",
        "%cd FedAvg-Algorithm/utils"
      ]
    },
    {
      "cell_type": "code",
      "execution_count": null,
      "metadata": {
        "id": "8RYFb71KQxI4"
      },
      "outputs": [],
      "source": [
        "#!/usr/bin/env python\n",
        "# -*- coding: utf-8 -*-\n",
        "# @python: 3.6\n"
      ]
    },
    {
      "cell_type": "markdown",
      "source": [
        "**Clientt**"
      ],
      "metadata": {
        "id": "aT5fs_006Hit"
      }
    },
    {
      "cell_type": "code",
      "execution_count": null,
      "metadata": {
        "id": "M2Ga-aOfRF3H"
      },
      "outputs": [],
      "source": [
        "from torch import nn\n",
        "import torch.nn.functional as F\n",
        "\n",
        "\n",
        "class CNNMnist(nn.Module):\n",
        "    def __init__(self, args):\n",
        "        super(CNNMnist, self).__init__()\n",
        "        self.conv1 = nn.Conv2d(1, 10, kernel_size=5)\n",
        "        self.conv2 = nn.Conv2d(10, 20, kernel_size=5)\n",
        "        self.conv2_drop = nn.Dropout2d()\n",
        "        self.fc1 = nn.Linear(320, 50)\n",
        "        self.fc2 = nn.Linear(50, args.num_classes)\n",
        "\n",
        "    def forward(self, x):\n",
        "        x = F.relu(F.max_pool2d(self.conv1(x), 2))\n",
        "        x = F.relu(F.max_pool2d(self.conv2_drop(self.conv2(x)), 2))\n",
        "        x = x.view(-1, x.shape[1]*x.shape[2]*x.shape[3])\n",
        "        x = F.relu(self.fc1(x))\n",
        "        x = F.dropout(x, training=self.training)\n",
        "        x = self.fc2(x)\n",
        "        return x\n",
        "\n",
        "\n",
        "class CNNCifar(nn.Module):\n",
        "    def __init__(self, args):\n",
        "        super(CNNCifar, self).__init__()\n",
        "        self.conv1 = nn.Conv2d(3, 6, 5)\n",
        "        self.pool = nn.MaxPool2d(2, 2)\n",
        "        self.conv2 = nn.Conv2d(6, 16, 5)\n",
        "        self.fc1 = nn.Linear(16 * 5 * 5, 120)\n",
        "        self.fc2 = nn.Linear(120, 84)\n",
        "        self.fc3 = nn.Linear(84, args.num_classes)\n",
        "\n",
        "    def forward(self, x):\n",
        "        x = self.pool(F.relu(self.conv1(x)))\n",
        "        x = self.pool(F.relu(self.conv2(x)))\n",
        "        x = x.view(-1, 16 * 5 * 5)\n",
        "        x = F.relu(self.fc1(x))\n",
        "        x = F.relu(self.fc2(x))\n",
        "        x = self.fc3(x)\n",
        "        return x"
      ]
    },
    {
      "cell_type": "markdown",
      "source": [
        "***Nets***"
      ],
      "metadata": {
        "id": "V7gRMcZk6DM3"
      }
    },
    {
      "cell_type": "code",
      "execution_count": null,
      "metadata": {
        "id": "110rq9RHROBX"
      },
      "outputs": [],
      "source": [
        "import torch\n",
        "from torch import nn\n",
        "from torch.utils.data import DataLoader, Dataset\n",
        "\n",
        "\n",
        "class DatasetSplit(Dataset):\n",
        "    def __init__(self, dataset, idxs):\n",
        "        self.dataset = dataset\n",
        "        self.idxs = list(idxs)\n",
        "\n",
        "    def __len__(self):\n",
        "        return len(self.idxs)\n",
        "\n",
        "    def __getitem__(self, item):\n",
        "        image, label = self.dataset[self.idxs[item]]\n",
        "        return image, label\n",
        "\n",
        "#local training\n",
        "\n",
        "class Local(object):\n",
        "    def __init__(self, args, dataset=None, idxs=None):\n",
        "        self.args = args\n",
        "        self.loss_func = nn.CrossEntropyLoss()\n",
        "        self.selected_clients = []\n",
        "        self.ldr_train = DataLoader(DatasetSplit(dataset, idxs), batch_size=self.args.local_bs, shuffle=True)\n",
        "#Trained MODEL USING stochastic gradient descent\n",
        "    def train(self, net):\n",
        "        net.train()\n",
        "        optimizer = torch.optim.SGD(net.parameters(), lr=self.args.lr, momentum=self.args.momentum)\n",
        "\n",
        "        epoch_loss = []\n",
        "        for iter_ in range(self.args.local_ep):\n",
        "            batch_loss = []\n",
        "            for batch_idx, (images, labels) in enumerate(self.ldr_train):\n",
        "                images, labels = images.to(self.args.device), labels.to(self.args.device)\n",
        "                net.zero_grad()\n",
        "                log_probs = net(images)\n",
        "                loss = self.loss_func(log_probs, labels)\n",
        "                loss.backward()\n",
        "                optimizer.step()\n",
        "\n",
        "                batch_loss.append(loss.item())\n",
        "            epoch_loss.append(sum(batch_loss)/len(batch_loss))\n",
        "        return net.state_dict(), sum(epoch_loss) / len(epoch_loss)\n"
      ]
    },
    {
      "cell_type": "markdown",
      "source": [
        "**FedAvg**"
      ],
      "metadata": {
        "id": "MEqM2D4z5NfC"
      }
    },
    {
      "cell_type": "code",
      "execution_count": null,
      "metadata": {
        "id": "Zbh8rJPPRXWr"
      },
      "outputs": [],
      "source": [
        "import copy\n",
        "import torch\n",
        "\n",
        "\n",
        "def FedAvg(w):\n",
        "    w_avg = copy.deepcopy(w[0])\n",
        "    for k in w_avg.keys():\n",
        "        for i in range(1, len(w)):\n",
        "            w_avg[k] += w[i][k]\n",
        "        w_avg[k] = torch.div(w_avg[k], len(w))\n",
        "    return w_avg"
      ]
    },
    {
      "cell_type": "markdown",
      "source": [
        "**Data**"
      ],
      "metadata": {
        "id": "XpyCju0758nC"
      }
    },
    {
      "cell_type": "code",
      "execution_count": null,
      "metadata": {
        "colab": {
          "base_uri": "https://localhost:8080/",
          "height": 1000
        },
        "id": "WLScSCiBRbvV",
        "outputId": "9323af98-ec72-457a-90fb-3f3b110c0867"
      },
      "outputs": [
        {
          "name": "stdout",
          "output_type": "stream",
          "text": [
            "Downloading http://yann.lecun.com/exdb/mnist/train-images-idx3-ubyte.gz\n",
            "Failed to download (trying next):\n",
            "HTTP Error 403: Forbidden\n",
            "\n",
            "Downloading https://ossci-datasets.s3.amazonaws.com/mnist/train-images-idx3-ubyte.gz\n",
            "Downloading https://ossci-datasets.s3.amazonaws.com/mnist/train-images-idx3-ubyte.gz to ../data/mnist/MNIST/raw/train-images-idx3-ubyte.gz\n"
          ]
        },
        {
          "name": "stderr",
          "output_type": "stream",
          "text": [
            "100%|██████████| 9912422/9912422 [00:00<00:00, 15979202.31it/s]\n"
          ]
        },
        {
          "name": "stdout",
          "output_type": "stream",
          "text": [
            "Extracting ../data/mnist/MNIST/raw/train-images-idx3-ubyte.gz to ../data/mnist/MNIST/raw\n",
            "\n",
            "Downloading http://yann.lecun.com/exdb/mnist/train-labels-idx1-ubyte.gz\n",
            "Failed to download (trying next):\n",
            "HTTP Error 403: Forbidden\n",
            "\n",
            "Downloading https://ossci-datasets.s3.amazonaws.com/mnist/train-labels-idx1-ubyte.gz\n",
            "Downloading https://ossci-datasets.s3.amazonaws.com/mnist/train-labels-idx1-ubyte.gz to ../data/mnist/MNIST/raw/train-labels-idx1-ubyte.gz\n"
          ]
        },
        {
          "name": "stderr",
          "output_type": "stream",
          "text": [
            "100%|██████████| 28881/28881 [00:00<00:00, 483488.77it/s]\n"
          ]
        },
        {
          "name": "stdout",
          "output_type": "stream",
          "text": [
            "Extracting ../data/mnist/MNIST/raw/train-labels-idx1-ubyte.gz to ../data/mnist/MNIST/raw\n",
            "\n",
            "Downloading http://yann.lecun.com/exdb/mnist/t10k-images-idx3-ubyte.gz\n",
            "Failed to download (trying next):\n",
            "HTTP Error 403: Forbidden\n",
            "\n",
            "Downloading https://ossci-datasets.s3.amazonaws.com/mnist/t10k-images-idx3-ubyte.gz\n",
            "Downloading https://ossci-datasets.s3.amazonaws.com/mnist/t10k-images-idx3-ubyte.gz to ../data/mnist/MNIST/raw/t10k-images-idx3-ubyte.gz\n"
          ]
        },
        {
          "name": "stderr",
          "output_type": "stream",
          "text": [
            "100%|██████████| 1648877/1648877 [00:00<00:00, 4377149.22it/s]\n"
          ]
        },
        {
          "name": "stdout",
          "output_type": "stream",
          "text": [
            "Extracting ../data/mnist/MNIST/raw/t10k-images-idx3-ubyte.gz to ../data/mnist/MNIST/raw\n",
            "\n",
            "Downloading http://yann.lecun.com/exdb/mnist/t10k-labels-idx1-ubyte.gz\n",
            "Failed to download (trying next):\n",
            "HTTP Error 403: Forbidden\n",
            "\n",
            "Downloading https://ossci-datasets.s3.amazonaws.com/mnist/t10k-labels-idx1-ubyte.gz\n",
            "Downloading https://ossci-datasets.s3.amazonaws.com/mnist/t10k-labels-idx1-ubyte.gz to ../data/mnist/MNIST/raw/t10k-labels-idx1-ubyte.gz\n"
          ]
        },
        {
          "name": "stderr",
          "output_type": "stream",
          "text": [
            "100%|██████████| 4542/4542 [00:00<00:00, 4288727.77it/s]\n"
          ]
        },
        {
          "name": "stdout",
          "output_type": "stream",
          "text": [
            "Extracting ../data/mnist/MNIST/raw/t10k-labels-idx1-ubyte.gz to ../data/mnist/MNIST/raw\n",
            "\n"
          ]
        },
        {
          "data": {
            "image/png": "[encoded data removed]",
            "text/plain": [
              "<Figure size 640x480 with 1 Axes>"
            ]
          },
          "metadata": {},
          "output_type": "display_data"
        },
        {
          "name": "stdout",
          "output_type": "stream",
          "text": [
            "Downloading https://www.cs.toronto.edu/~kriz/cifar-10-python.tar.gz to ../data/cifar/cifar-10-python.tar.gz\n"
          ]
        },
        {
          "name": "stderr",
          "output_type": "stream",
          "text": [
            "100%|██████████| 170498071/170498071 [00:03<00:00, 48930805.75it/s]\n"
          ]
        },
        {
          "name": "stdout",
          "output_type": "stream",
          "text": [
            "Extracting ../data/cifar/cifar-10-python.tar.gz to ../data/cifar/\n"
          ]
        },
        {
          "data": {
            "image/png": "[encoded data removed]",
            "text/plain": [
              "<Figure size 640x480 with 1 Axes>"
            ]
          },
          "metadata": {},
          "output_type": "display_data"
        }
      ],
      "source": [
        "import os.path\n",
        "\n",
        "import numpy as np\n",
        "from torchvision import datasets, transforms\n",
        "\n",
        "#IID data Prtitioning\n",
        "def build_iid_data(dataset, num_users):\n",
        "    num_items = int(len(dataset)/num_users)\n",
        "    dict_users, all_idxs = {}, [i for i in range(len(dataset))]\n",
        "    for i in range(num_users):\n",
        "        user_items = set(np.random.choice(all_idxs, num_items, replace=False))\n",
        "        all_idxs = list(set(all_idxs) - user_items)\n",
        "        dict_users[i] = list(user_items)\n",
        "    return dict_users\n",
        "\n",
        "#Non-IID Partitioning\n",
        "def build_noniid_data(dataset, num_users):\n",
        "    num_shards, num_imgs = 2 * num_users, len(dataset.targets) // (2 * num_users)\n",
        "    idx_shard = [i for i in range(num_shards)]\n",
        "    dict_users = {i: np.array([], dtype='int64') for i in range(num_users)}\n",
        "    idxs = np.arange(num_shards * num_imgs)\n",
        "    labels = dataset.targets.numpy()\n",
        "\n",
        "    # sort labels\n",
        "    idxs_labels = np.vstack((idxs, labels))\n",
        "    idxs_labels = idxs_labels[:, idxs_labels[1, :].argsort()]\n",
        "    idxs = idxs_labels[0, :]\n",
        "\n",
        "    # divide and assign\n",
        "    for i in range(num_users):\n",
        "        rand_set = set(np.random.choice(idx_shard, 2, replace=False))\n",
        "        idx_shard = list(set(idx_shard) - rand_set)\n",
        "        for rand in rand_set:\n",
        "            dict_users[i] = np.concatenate((dict_users[i], idxs[rand * num_imgs:(rand + 1) * num_imgs]), axis=0)\n",
        "    return dict_users\n",
        "\n",
        "\n",
        "def build_dir_data(dataset, num_users, alpha):\n",
        "    train_labels = np.array(dataset.targets, dtype='int64')\n",
        "    n_classes = np.max(train_labels) + 1\n",
        "    # Dirichlet distribution\n",
        "    label_distribution = np.random.dirichlet([alpha] * num_users, n_classes)\n",
        "    # (K, N) category label distribution matrix X, recording how much each client occupies each category\n",
        "\n",
        "    class_idxs = [np.argwhere(train_labels == y).flatten()\n",
        "                  for y in range(n_classes)]\n",
        "    # Record the sample subscript corresponding to each K category\n",
        "\n",
        "    client_idxs = [[] for _ in range(num_users)]\n",
        "    # Record the indexes of N clients corresponding to the sample collection\n",
        "    for c, fracs in zip(class_idxs, label_distribution):\n",
        "        # np.split divides the samples of category k into N subsets according to the proportion\n",
        "        # for i, idxs is the index of traversing the sample set corresponding to the i-th client\n",
        "        for i, idxs in enumerate(np.split(c, (np.cumsum(fracs)[:-1] * len(c)).astype(int))):\n",
        "            client_idxs[i] += [idxs]\n",
        "\n",
        "    client_idxs = [np.concatenate(idxs) for idxs in client_idxs]\n",
        "\n",
        "    dict_users = {}\n",
        "    for i in range(len(client_idxs)):\n",
        "        dict_users[i] = client_idxs[i]\n",
        "    return dict_users\n",
        "\n",
        "\n",
        "def draw_data_distribution(dict_users, dataset, num_class, fig_path=\"./\"):\n",
        "    import matplotlib.pyplot as plt\n",
        "    targets = dataset.targets\n",
        "    # plt.figure(figsize=(20, 3))\n",
        "\n",
        "    plt.hist([np.array(targets)[list(idc)] for idc in dict_users.values()], stacked=True,\n",
        "             bins=np.arange(min(targets) - 0.5, max(targets) + 1.5, 1),\n",
        "             label=[\"C{}\".format(i) for i in range(len(dict_users))], rwidth=0.5)\n",
        "    plt.xticks(np.arange(num_class), rotation=70)\n",
        "    plt.legend(loc=(0.95, -0.1))\n",
        "    plt.savefig(os.path.join(fig_path, \"data_distribution.jpg\"))\n",
        "    plt.show()\n",
        "\n",
        "\n",
        "if __name__ == '__main__':\n",
        "    dataset_train = datasets.MNIST('../data/mnist/', train=True, download=True,\n",
        "                                   transform=transforms.Compose([\n",
        "                                       transforms.ToTensor(),\n",
        "                                       transforms.Normalize((0.1307,), (0.3081,))\n",
        "                                   ]))\n",
        "    num = 10\n",
        "    d = build_iid_data(dataset_train, num)\n",
        "    draw_data_distribution(d, dataset_train, 10)\n",
        "\n",
        "    dataset_train = datasets.CIFAR10('../data/cifar/', train=True, download=True,\n",
        "                                   transform=transforms.Compose([\n",
        "                                       transforms.ToTensor(),\n",
        "                                       transforms.Normalize((0.1307,), (0.3081,))\n",
        "                                   ]))\n",
        "    num = 10\n",
        "    d = build_iid_data(dataset_train, num)\n",
        "    draw_data_distribution(d, dataset_train, 10)"
      ]
    },
    {
      "cell_type": "code",
      "execution_count": null,
      "metadata": {
        "id": "RaLlLXUFSFt-"
      },
      "outputs": [],
      "source": [
        "import sys\n",
        "sys.path.append('/content/FedAvg-Algorithm/log')"
      ]
    },
    {
      "cell_type": "markdown",
      "source": [
        "**Options**"
      ],
      "metadata": {
        "id": "NbhIMixb5JtX"
      }
    },
    {
      "cell_type": "code",
      "execution_count": null,
      "metadata": {
        "id": "bILMT7OCTQdC"
      },
      "outputs": [],
      "source": [
        "import argparse\n",
        "\n",
        "\n",
        "def args_parser():\n",
        "    parser = argparse.ArgumentParser()\n",
        "    # federated arguments\n",
        "    parser.add_argument('--epochs', type=int, default=10, help=\"rounds of training\")\n",
        "    parser.add_argument('--num_users', type=int, default=10, help=\"number of users: K\")\n",
        "    parser.add_argument('--frac', type=float, default=0.3, help=\"the fraction of clients: C\")\n",
        "    parser.add_argument('--local_ep', type=int, default=5, help=\"the number of local epochs: E\")\n",
        "    parser.add_argument('--local_bs', type=int, default=10, help=\"local batch size: B\")\n",
        "    parser.add_argument('--bs', type=int, default=128, help=\"test batch size\")\n",
        "    parser.add_argument('--lr', type=float, default=0.01, help=\"learning rate\")\n",
        "    parser.add_argument('--momentum', type=float, default=0.5, help=\"SGD momentum (default: 0.5)\")\n",
        "\n",
        "    # model arguments\n",
        "    parser.add_argument('--model', type=str, default='cnn', help='model name')\n",
        "\n",
        "    # other arguments\n",
        "    parser.add_argument('--dataset', type=str, default='mnist', help=\"name of dataset\")\n",
        "    parser.add_argument('--iid', action='store_true', help='whether i.i.d or not')\n",
        "    parser.add_argument('--dir', action='store_true', help='whether dir-noniid or not')\n",
        "    parser.add_argument('--dir_alpha', type=float, default=0.1, help='whether i.i.d or not')\n",
        "    parser.add_argument('--num_classes', type=int, default=10, help=\"number of classes\")\n",
        "    parser.add_argument('--gpu', type=int, default=0, help=\"GPU ID, -1 for CPU\")\n",
        "    parser.add_argument('--seed', type=int, default=1, help='random seed (default: 1)')\n",
        "    args = parser.parse_args()\n",
        "    return args"
      ]
    },
    {
      "cell_type": "markdown",
      "source": [
        "**Test**"
      ],
      "metadata": {
        "id": "fxOZPq4E6R7L"
      }
    },
    {
      "cell_type": "code",
      "execution_count": null,
      "metadata": {
        "id": "8ggUaJEOTVJ0"
      },
      "outputs": [],
      "source": [
        "import torch.nn.functional as F\n",
        "from torch.utils.data import DataLoader\n",
        "\n",
        "\n",
        "def test_img(net_g, datatest, args):  #evaluate global model\n",
        "    net_g.eval()\n",
        "    test_loss = 0\n",
        "    correct = 0\n",
        "    data_loader = DataLoader(datatest, batch_size=args.bs)\n",
        "    for idx, (data, target) in enumerate(data_loader):\n",
        "        data, target = data.to(args.device), target.to(args.device)\n",
        "        log_probs = net_g(data)\n",
        "        # sum up batch loss\n",
        "        test_loss += F.cross_entropy(log_probs, target, reduction='sum').item()\n",
        "        # get the index of the max log-probability\n",
        "        y_pred = log_probs.data.max(1, keepdim=True)[1]\n",
        "        correct += y_pred.eq(target.data.view_as(y_pred)).long().cpu().sum()\n",
        "\n",
        "    test_loss /= len(data_loader.dataset)\n",
        "    accuracy = 100.00 * correct.item() / len(data_loader.dataset)\n",
        "    return accuracy, test_loss\n"
      ]
    },
    {
      "cell_type": "markdown",
      "source": [
        "**Draw**"
      ],
      "metadata": {
        "id": "EutQ6SEM6Uwo"
      }
    },
    {
      "cell_type": "code",
      "execution_count": null,
      "metadata": {
        "colab": {
          "base_uri": "https://localhost:8080/",
          "height": 564
        },
        "id": "wwc38-kATdiN",
        "outputId": "17c82054-bd21-48c9-8c9a-5f00c6481cad"
      },
      "outputs": [
        {
          "data": {
            "image/png": "[encoded data removed]",
            "text/plain": [
              "<Figure size 1000x600 with 1 Axes>"
            ]
          },
          "metadata": {},
          "output_type": "display_data"
        }
      ],
      "source": [
        "import matplotlib.pyplot as plt\n",
        "import os\n",
        "\n",
        "\n",
        "def read_data(log_path):\n",
        "    # Read experiment data for each experiment\n",
        "    all_acc_list = []\n",
        "    for exp in os.listdir(log_path):\n",
        "        acc_list = read_exp_data(os.path.join(log_path, exp))\n",
        "        all_acc_list.append((exp, acc_list))\n",
        "\n",
        "    plt.figure(figsize=(10, 6))\n",
        "    for exp, acc_list in all_acc_list:\n",
        "        plt.plot(acc_list, label=exp)  # Plot the precision curve for each experiment\n",
        "\n",
        "    plt.xlabel(\"Round\")\n",
        "    plt.ylabel(\"Accuracy\")\n",
        "    plt.title(\"Experiment Accuracy Comparison\")\n",
        "    plt.legend()\n",
        "    plt.show()\n",
        "\n",
        "\n",
        "def read_exp_data(exp_path):\n",
        "    with open(os.path.join(exp_path, \"accuracy.dat\")) as f:\n",
        "        acc_list = [float(i) for i in f.read().split()]\n",
        "    return acc_list\n",
        "\n",
        "\n",
        "if __name__ == '__main__':\n",
        "    read_data(\"./log\")"
      ]
    },
    {
      "cell_type": "markdown",
      "source": [
        "**Main**"
      ],
      "metadata": {
        "id": "qhXS9v_n45I3"
      }
    },
    {
      "cell_type": "code",
      "execution_count": null,
      "metadata": {
        "colab": {
          "base_uri": "https://localhost:8080/"
        },
        "id": "KxVwujbuTiu0",
        "outputId": "39594586-a016-44aa-b08b-84161d37dd01"
      },
      "outputs": [
        {
          "output_type": "stream",
          "name": "stdout",
          "text": [
            "Collecting fedml\n",
            "  Using cached fedml-0.8.30-py2.py3-none-any.whl (1.2 MB)\n",
            "Collecting GPUtil (from fedml)\n",
            "  Using cached GPUtil-1.4.0.tar.gz (5.5 kB)\n",
            "  Preparing metadata (setup.py) ... \u001b[?25l\u001b[?25hdone\n",
            "Requirement already satisfied: PyYAML in /usr/local/lib/python3.10/dist-packages (from fedml) (6.0.1)\n",
            "Requirement already satisfied: aiohttp>=3.8.1 in /usr/local/lib/python3.10/dist-packages (from fedml) (3.9.5)\n",
            "Collecting attrdict (from fedml)\n",
            "  Using cached attrdict-2.0.1-py2.py3-none-any.whl (9.9 kB)\n",
            "Requirement already satisfied: attrs in /usr/local/lib/python3.10/dist-packages (from fedml) (23.2.0)\n",
            "Collecting boto3 (from fedml)\n",
            "  Using cached boto3-1.34.107-py3-none-any.whl (139 kB)\n",
            "Requirement already satisfied: cachetools in /usr/local/lib/python3.10/dist-packages (from fedml) (5.3.3)\n",
            "Requirement already satisfied: chardet in /usr/local/lib/python3.10/dist-packages (from fedml) (5.2.0)\n",
            "Requirement already satisfied: click in /usr/local/lib/python3.10/dist-packages (from fedml) (8.1.7)\n",
            "Collecting dill (from fedml)\n",
            "  Using cached dill-0.3.8-py3-none-any.whl (116 kB)\n",
            "Collecting docker==6.1.3 (from fedml)\n",
            "  Using cached docker-6.1.3-py3-none-any.whl (148 kB)\n",
            "Collecting fastapi (from fedml)\n",
            "  Using cached fastapi-0.111.0-py3-none-any.whl (91 kB)\n",
            "Requirement already satisfied: gensim in /usr/local/lib/python3.10/dist-packages (from fedml) (4.3.2)\n",
            "Collecting geventhttpclient<=2.0.9,>=1.4.4 (from fedml)\n",
            "  Using cached geventhttpclient-2.0.9-cp310-cp310-manylinux_2_5_x86_64.manylinux1_x86_64.manylinux_2_17_x86_64.manylinux2014_x86_64.whl (103 kB)\n",
            "Collecting graphviz<0.9.0,>=0.8.1 (from fedml)\n",
            "  Using cached graphviz-0.8.4-py2.py3-none-any.whl (16 kB)\n",
            "Requirement already satisfied: h5py in /usr/local/lib/python3.10/dist-packages (from fedml) (3.9.0)\n",
            "Collecting httpx (from fedml)\n",
            "  Using cached httpx-0.27.0-py3-none-any.whl (75 kB)\n",
            "Requirement already satisfied: matplotlib in /usr/local/lib/python3.10/dist-packages (from fedml) (3.7.1)\n",
            "Collecting multiprocess (from fedml)\n",
            "  Using cached multiprocess-0.70.16-py310-none-any.whl (134 kB)\n",
            "Collecting networkx<3.0 (from fedml)\n",
            "  Using cached networkx-2.8.8-py3-none-any.whl (2.0 MB)\n",
            "Collecting ntplib (from fedml)\n",
            "  Using cached ntplib-0.4.0-py2.py3-none-any.whl (6.8 kB)\n",
            "Requirement already satisfied: numpy>=1.21 in /usr/local/lib/python3.10/dist-packages (from fedml) (1.25.2)\n",
            "Collecting onnx (from fedml)\n",
            "  Using cached onnx-1.16.0-cp310-cp310-manylinux_2_17_x86_64.manylinux2014_x86_64.whl (15.9 MB)\n",
            "Collecting paho-mqtt<2.0.0 (from fedml)\n",
            "  Using cached paho-mqtt-1.6.1.tar.gz (99 kB)\n",
            "  Preparing metadata (setup.py) ... \u001b[?25l\u001b[?25hdone\n",
            "Requirement already satisfied: pandas in /usr/local/lib/python3.10/dist-packages (from fedml) (2.0.3)\n",
            "Requirement already satisfied: prettytable in /usr/local/lib/python3.10/dist-packages (from fedml) (3.10.0)\n",
            "Collecting py-machineid (from fedml)\n",
            "  Using cached py_machineid-0.5.1-py3-none-any.whl (4.7 kB)\n",
            "Requirement already satisfied: pydantic in /usr/local/lib/python3.10/dist-packages (from fedml) (2.7.1)\n",
            "Collecting pydantic-settings (from fedml)\n",
            "  Using cached pydantic_settings-2.2.1-py3-none-any.whl (13 kB)\n",
            "Requirement already satisfied: pytest in /usr/local/lib/python3.10/dist-packages (from fedml) (7.4.4)\n",
            "Collecting pytest-mock (from fedml)\n",
            "  Using cached pytest_mock-3.14.0-py3-none-any.whl (9.9 kB)\n",
            "Collecting python-rapidjson>=0.9.1 (from fedml)\n",
            "  Using cached python_rapidjson-1.16-cp310-cp310-manylinux_2_17_x86_64.manylinux2014_x86_64.whl (1.7 MB)\n",
            "Collecting redis (from fedml)\n",
            "  Using cached redis-5.0.4-py3-none-any.whl (251 kB)\n",
            "Requirement already satisfied: scikit-learn in /usr/local/lib/python3.10/dist-packages (from fedml) (1.2.2)\n",
            "Collecting smart-open==6.3.0 (from fedml)\n",
            "  Using cached smart_open-6.3.0-py3-none-any.whl (56 kB)\n",
            "Requirement already satisfied: spacy in /usr/local/lib/python3.10/dist-packages (from fedml) (3.7.4)\n",
            "Requirement already satisfied: sqlalchemy in /usr/local/lib/python3.10/dist-packages (from fedml) (2.0.30)\n",
            "Collecting toposort (from fedml)\n",
            "  Using cached toposort-1.10-py3-none-any.whl (8.5 kB)\n",
            "Requirement already satisfied: torch>=1.13.1 in /usr/local/lib/python3.10/dist-packages (from fedml) (2.2.1+cu121)\n",
            "Requirement already satisfied: torchvision>=0.14.1 in /usr/local/lib/python3.10/dist-packages (from fedml) (0.17.1+cu121)\n",
            "Requirement already satisfied: tqdm in /usr/local/lib/python3.10/dist-packages (from fedml) (4.66.4)\n",
            "Collecting tritonclient (from fedml)\n",
            "  Using cached tritonclient-2.45.0-py3-none-manylinux1_x86_64.whl (12.6 MB)\n",
            "Requirement already satisfied: typing-extensions in /usr/local/lib/python3.10/dist-packages (from fedml) (4.11.0)\n",
            "Requirement already satisfied: tzlocal in /usr/local/lib/python3.10/dist-packages (from fedml) (5.2)\n",
            "Collecting uvicorn (from fedml)\n",
            "  Using cached uvicorn-0.29.0-py3-none-any.whl (60 kB)\n",
            "Collecting wandb==0.13.2 (from fedml)\n",
            "  Using cached wandb-0.13.2-py2.py3-none-any.whl (1.8 MB)\n",
            "Collecting wget (from fedml)\n",
            "  Using cached wget-3.2.zip (10 kB)\n",
            "  Preparing metadata (setup.py) ... \u001b[?25l\u001b[?25hdone\n",
            "Requirement already satisfied: packaging>=14.0 in /usr/local/lib/python3.10/dist-packages (from docker==6.1.3->fedml) (24.0)\n",
            "Requirement already satisfied: requests>=2.26.0 in /usr/local/lib/python3.10/dist-packages (from docker==6.1.3->fedml) (2.31.0)\n",
            "Requirement already satisfied: urllib3>=1.26.0 in /usr/local/lib/python3.10/dist-packages (from docker==6.1.3->fedml) (2.0.7)\n",
            "Requirement already satisfied: websocket-client>=0.32.0 in /usr/local/lib/python3.10/dist-packages (from docker==6.1.3->fedml) (1.8.0)\n",
            "Collecting GitPython>=1.0.0 (from wandb==0.13.2->fedml)\n",
            "  Using cached GitPython-3.1.43-py3-none-any.whl (207 kB)\n",
            "Requirement already satisfied: promise<3,>=2.0 in /usr/local/lib/python3.10/dist-packages (from wandb==0.13.2->fedml) (2.3)\n",
            "Collecting shortuuid>=0.5.0 (from wandb==0.13.2->fedml)\n",
            "  Using cached shortuuid-1.0.13-py3-none-any.whl (10 kB)\n",
            "Requirement already satisfied: psutil>=5.0.0 in /usr/local/lib/python3.10/dist-packages (from wandb==0.13.2->fedml) (5.9.5)\n",
            "Collecting sentry-sdk>=1.0.0 (from wandb==0.13.2->fedml)\n",
            "  Using cached sentry_sdk-2.2.0-py2.py3-none-any.whl (281 kB)\n",
            "Requirement already satisfied: six>=1.13.0 in /usr/local/lib/python3.10/dist-packages (from wandb==0.13.2->fedml) (1.16.0)\n",
            "Collecting docker-pycreds>=0.4.0 (from wandb==0.13.2->fedml)\n",
            "  Using cached docker_pycreds-0.4.0-py2.py3-none-any.whl (9.0 kB)\n",
            "Requirement already satisfied: protobuf<4.0dev,>=3.12.0 in /usr/local/lib/python3.10/dist-packages (from wandb==0.13.2->fedml) (3.20.3)\n",
            "Collecting pathtools (from wandb==0.13.2->fedml)\n",
            "  Using cached pathtools-0.1.2.tar.gz (11 kB)\n",
            "  Preparing metadata (setup.py) ... \u001b[?25l\u001b[?25hdone\n",
            "Collecting setproctitle (from wandb==0.13.2->fedml)\n",
            "  Using cached setproctitle-1.3.3-cp310-cp310-manylinux_2_5_x86_64.manylinux1_x86_64.manylinux_2_17_x86_64.manylinux2014_x86_64.whl (30 kB)\n",
            "Requirement already satisfied: setuptools in /usr/local/lib/python3.10/dist-packages (from wandb==0.13.2->fedml) (67.7.2)\n",
            "Requirement already satisfied: aiosignal>=1.1.2 in /usr/local/lib/python3.10/dist-packages (from aiohttp>=3.8.1->fedml) (1.3.1)\n",
            "Requirement already satisfied: frozenlist>=1.1.1 in /usr/local/lib/python3.10/dist-packages (from aiohttp>=3.8.1->fedml) (1.4.1)\n",
            "Requirement already satisfied: multidict<7.0,>=4.5 in /usr/local/lib/python3.10/dist-packages (from aiohttp>=3.8.1->fedml) (6.0.5)\n",
            "Requirement already satisfied: yarl<2.0,>=1.0 in /usr/local/lib/python3.10/dist-packages (from aiohttp>=3.8.1->fedml) (1.9.4)\n",
            "Requirement already satisfied: async-timeout<5.0,>=4.0 in /usr/local/lib/python3.10/dist-packages (from aiohttp>=3.8.1->fedml) (4.0.3)\n",
            "Collecting gevent>=0.13 (from geventhttpclient<=2.0.9,>=1.4.4->fedml)\n",
            "  Using cached gevent-24.2.1-cp310-cp310-manylinux_2_28_x86_64.whl (6.5 MB)\n",
            "Requirement already satisfied: certifi in /usr/local/lib/python3.10/dist-packages (from geventhttpclient<=2.0.9,>=1.4.4->fedml) (2024.2.2)\n",
            "Collecting brotli (from geventhttpclient<=2.0.9,>=1.4.4->fedml)\n",
            "  Using cached Brotli-1.1.0-cp310-cp310-manylinux_2_5_x86_64.manylinux1_x86_64.manylinux_2_12_x86_64.manylinux2010_x86_64.whl (3.0 MB)\n",
            "Requirement already satisfied: filelock in /usr/local/lib/python3.10/dist-packages (from torch>=1.13.1->fedml) (3.14.0)\n",
            "Requirement already satisfied: sympy in /usr/local/lib/python3.10/dist-packages (from torch>=1.13.1->fedml) (1.12)\n",
            "Requirement already satisfied: jinja2 in /usr/local/lib/python3.10/dist-packages (from torch>=1.13.1->fedml) (3.1.4)\n",
            "Requirement already satisfied: fsspec in /usr/local/lib/python3.10/dist-packages (from torch>=1.13.1->fedml) (2023.6.0)\n",
            "Collecting nvidia-cuda-nvrtc-cu12==12.1.105 (from torch>=1.13.1->fedml)\n",
            "  Using cached nvidia_cuda_nvrtc_cu12-12.1.105-py3-none-manylinux1_x86_64.whl (23.7 MB)\n",
            "Collecting nvidia-cuda-runtime-cu12==12.1.105 (from torch>=1.13.1->fedml)\n",
            "  Using cached nvidia_cuda_runtime_cu12-12.1.105-py3-none-manylinux1_x86_64.whl (823 kB)\n",
            "Collecting nvidia-cuda-cupti-cu12==12.1.105 (from torch>=1.13.1->fedml)\n",
            "  Using cached nvidia_cuda_cupti_cu12-12.1.105-py3-none-manylinux1_x86_64.whl (14.1 MB)\n",
            "Collecting nvidia-cudnn-cu12==8.9.2.26 (from torch>=1.13.1->fedml)\n",
            "  Using cached nvidia_cudnn_cu12-8.9.2.26-py3-none-manylinux1_x86_64.whl (731.7 MB)\n",
            "Collecting nvidia-cublas-cu12==12.1.3.1 (from torch>=1.13.1->fedml)\n",
            "  Using cached nvidia_cublas_cu12-12.1.3.1-py3-none-manylinux1_x86_64.whl (410.6 MB)\n",
            "Collecting nvidia-cufft-cu12==11.0.2.54 (from torch>=1.13.1->fedml)\n",
            "  Using cached nvidia_cufft_cu12-11.0.2.54-py3-none-manylinux1_x86_64.whl (121.6 MB)\n",
            "Collecting nvidia-curand-cu12==10.3.2.106 (from torch>=1.13.1->fedml)\n",
            "  Using cached nvidia_curand_cu12-10.3.2.106-py3-none-manylinux1_x86_64.whl (56.5 MB)\n",
            "Collecting nvidia-cusolver-cu12==11.4.5.107 (from torch>=1.13.1->fedml)\n",
            "  Using cached nvidia_cusolver_cu12-11.4.5.107-py3-none-manylinux1_x86_64.whl (124.2 MB)\n",
            "Collecting nvidia-cusparse-cu12==12.1.0.106 (from torch>=1.13.1->fedml)\n",
            "  Using cached nvidia_cusparse_cu12-12.1.0.106-py3-none-manylinux1_x86_64.whl (196.0 MB)\n",
            "Collecting nvidia-nccl-cu12==2.19.3 (from torch>=1.13.1->fedml)\n",
            "  Using cached nvidia_nccl_cu12-2.19.3-py3-none-manylinux1_x86_64.whl (166.0 MB)\n",
            "Collecting nvidia-nvtx-cu12==12.1.105 (from torch>=1.13.1->fedml)\n",
            "  Using cached nvidia_nvtx_cu12-12.1.105-py3-none-manylinux1_x86_64.whl (99 kB)\n",
            "Requirement already satisfied: triton==2.2.0 in /usr/local/lib/python3.10/dist-packages (from torch>=1.13.1->fedml) (2.2.0)\n",
            "Collecting nvidia-nvjitlink-cu12 (from nvidia-cusolver-cu12==11.4.5.107->torch>=1.13.1->fedml)\n",
            "  Using cached nvidia_nvjitlink_cu12-12.4.127-py3-none-manylinux2014_x86_64.whl (21.1 MB)\n",
            "Requirement already satisfied: pillow!=8.3.*,>=5.3.0 in /usr/local/lib/python3.10/dist-packages (from torchvision>=0.14.1->fedml) (9.4.0)\n",
            "Collecting botocore<1.35.0,>=1.34.107 (from boto3->fedml)\n",
            "  Using cached botocore-1.34.107-py3-none-any.whl (12.2 MB)\n",
            "Collecting jmespath<2.0.0,>=0.7.1 (from boto3->fedml)\n",
            "  Using cached jmespath-1.0.1-py3-none-any.whl (20 kB)\n",
            "Collecting s3transfer<0.11.0,>=0.10.0 (from boto3->fedml)\n",
            "  Using cached s3transfer-0.10.1-py3-none-any.whl (82 kB)\n",
            "Collecting starlette<0.38.0,>=0.37.2 (from fastapi->fedml)\n",
            "  Using cached starlette-0.37.2-py3-none-any.whl (71 kB)\n",
            "Collecting fastapi-cli>=0.0.2 (from fastapi->fedml)\n",
            "  Using cached fastapi_cli-0.0.3-py3-none-any.whl (9.2 kB)\n",
            "Collecting python-multipart>=0.0.7 (from fastapi->fedml)\n",
            "  Using cached python_multipart-0.0.9-py3-none-any.whl (22 kB)\n",
            "Collecting ujson!=4.0.2,!=4.1.0,!=4.2.0,!=4.3.0,!=5.0.0,!=5.1.0,>=4.0.1 (from fastapi->fedml)\n",
            "  Using cached ujson-5.10.0-cp310-cp310-manylinux_2_17_x86_64.manylinux2014_x86_64.whl (53 kB)\n",
            "Collecting orjson>=3.2.1 (from fastapi->fedml)\n",
            "  Using cached orjson-3.10.3-cp310-cp310-manylinux_2_17_x86_64.manylinux2014_x86_64.whl (142 kB)\n",
            "Collecting email_validator>=2.0.0 (from fastapi->fedml)\n",
            "  Using cached email_validator-2.1.1-py3-none-any.whl (30 kB)\n",
            "Requirement already satisfied: anyio in /usr/local/lib/python3.10/dist-packages (from httpx->fedml) (3.7.1)\n",
            "Collecting httpcore==1.* (from httpx->fedml)\n",
            "  Using cached httpcore-1.0.5-py3-none-any.whl (77 kB)\n",
            "Requirement already satisfied: idna in /usr/local/lib/python3.10/dist-packages (from httpx->fedml) (3.7)\n",
            "Requirement already satisfied: sniffio in /usr/local/lib/python3.10/dist-packages (from httpx->fedml) (1.3.1)\n",
            "Collecting h11<0.15,>=0.13 (from httpcore==1.*->httpx->fedml)\n",
            "  Using cached h11-0.14.0-py3-none-any.whl (58 kB)\n",
            "Requirement already satisfied: annotated-types>=0.4.0 in /usr/local/lib/python3.10/dist-packages (from pydantic->fedml) (0.6.0)\n",
            "Requirement already satisfied: pydantic-core==2.18.2 in /usr/local/lib/python3.10/dist-packages (from pydantic->fedml) (2.18.2)\n",
            "Requirement already satisfied: scipy>=1.7.0 in /usr/local/lib/python3.10/dist-packages (from gensim->fedml) (1.11.4)\n",
            "Requirement already satisfied: contourpy>=1.0.1 in /usr/local/lib/python3.10/dist-packages (from matplotlib->fedml) (1.2.1)\n",
            "Requirement already satisfied: cycler>=0.10 in /usr/local/lib/python3.10/dist-packages (from matplotlib->fedml) (0.12.1)\n",
            "Requirement already satisfied: fonttools>=4.22.0 in /usr/local/lib/python3.10/dist-packages (from matplotlib->fedml) (4.51.0)\n",
            "Requirement already satisfied: kiwisolver>=1.0.1 in /usr/local/lib/python3.10/dist-packages (from matplotlib->fedml) (1.4.5)\n",
            "Requirement already satisfied: pyparsing>=2.3.1 in /usr/local/lib/python3.10/dist-packages (from matplotlib->fedml) (3.1.2)\n",
            "Requirement already satisfied: python-dateutil>=2.7 in /usr/local/lib/python3.10/dist-packages (from matplotlib->fedml) (2.8.2)\n",
            "Requirement already satisfied: pytz>=2020.1 in /usr/local/lib/python3.10/dist-packages (from pandas->fedml) (2023.4)\n",
            "Requirement already satisfied: tzdata>=2022.1 in /usr/local/lib/python3.10/dist-packages (from pandas->fedml) (2024.1)\n",
            "Requirement already satisfied: wcwidth in /usr/local/lib/python3.10/dist-packages (from prettytable->fedml) (0.2.13)\n",
            "Collecting python-dotenv>=0.21.0 (from pydantic-settings->fedml)\n",
            "  Using cached python_dotenv-1.0.1-py3-none-any.whl (19 kB)\n",
            "Requirement already satisfied: iniconfig in /usr/local/lib/python3.10/dist-packages (from pytest->fedml) (2.0.0)\n",
            "Requirement already satisfied: pluggy<2.0,>=0.12 in /usr/local/lib/python3.10/dist-packages (from pytest->fedml) (1.5.0)\n",
            "Requirement already satisfied: exceptiongroup>=1.0.0rc8 in /usr/local/lib/python3.10/dist-packages (from pytest->fedml) (1.2.1)\n",
            "Requirement already satisfied: tomli>=1.0.0 in /usr/local/lib/python3.10/dist-packages (from pytest->fedml) (2.0.1)\n",
            "Requirement already satisfied: joblib>=1.1.1 in /usr/local/lib/python3.10/dist-packages (from scikit-learn->fedml) (1.4.2)\n",
            "Requirement already satisfied: threadpoolctl>=2.0.0 in /usr/local/lib/python3.10/dist-packages (from scikit-learn->fedml) (3.5.0)\n",
            "Requirement already satisfied: spacy-legacy<3.1.0,>=3.0.11 in /usr/local/lib/python3.10/dist-packages (from spacy->fedml) (3.0.12)\n",
            "Requirement already satisfied: spacy-loggers<2.0.0,>=1.0.0 in /usr/local/lib/python3.10/dist-packages (from spacy->fedml) (1.0.5)\n",
            "Requirement already satisfied: murmurhash<1.1.0,>=0.28.0 in /usr/local/lib/python3.10/dist-packages (from spacy->fedml) (1.0.10)\n",
            "Requirement already satisfied: cymem<2.1.0,>=2.0.2 in /usr/local/lib/python3.10/dist-packages (from spacy->fedml) (2.0.8)\n",
            "Requirement already satisfied: preshed<3.1.0,>=3.0.2 in /usr/local/lib/python3.10/dist-packages (from spacy->fedml) (3.0.9)\n",
            "Requirement already satisfied: thinc<8.3.0,>=8.2.2 in /usr/local/lib/python3.10/dist-packages (from spacy->fedml) (8.2.3)\n",
            "Requirement already satisfied: wasabi<1.2.0,>=0.9.1 in /usr/local/lib/python3.10/dist-packages (from spacy->fedml) (1.1.2)\n",
            "Requirement already satisfied: srsly<3.0.0,>=2.4.3 in /usr/local/lib/python3.10/dist-packages (from spacy->fedml) (2.4.8)\n",
            "Requirement already satisfied: catalogue<2.1.0,>=2.0.6 in /usr/local/lib/python3.10/dist-packages (from spacy->fedml) (2.0.10)\n",
            "Requirement already satisfied: weasel<0.4.0,>=0.1.0 in /usr/local/lib/python3.10/dist-packages (from spacy->fedml) (0.3.4)\n",
            "Requirement already satisfied: typer<0.10.0,>=0.3.0 in /usr/local/lib/python3.10/dist-packages (from spacy->fedml) (0.9.4)\n",
            "Requirement already satisfied: langcodes<4.0.0,>=3.2.0 in /usr/local/lib/python3.10/dist-packages (from spacy->fedml) (3.4.0)\n",
            "Requirement already satisfied: greenlet!=0.4.17 in /usr/local/lib/python3.10/dist-packages (from sqlalchemy->fedml) (3.0.3)\n",
            "Collecting dnspython>=2.0.0 (from email_validator>=2.0.0->fastapi->fedml)\n",
            "  Using cached dnspython-2.6.1-py3-none-any.whl (307 kB)\n",
            "INFO: pip is looking at multiple versions of fastapi-cli to determine which version is compatible with other requirements. This could take a while.\n",
            "Collecting fastapi-cli>=0.0.2 (from fastapi->fedml)\n",
            "  Using cached fastapi_cli-0.0.2-py3-none-any.whl (9.1 kB)\n",
            "Collecting spacy (from fedml)\n",
            "  Using cached spacy-3.7.4-cp310-cp310-manylinux_2_17_x86_64.manylinux2014_x86_64.whl (6.6 MB)\n",
            "  Using cached spacy-3.7.2-cp310-cp310-manylinux_2_17_x86_64.manylinux2014_x86_64.whl (6.6 MB)\n",
            "  Using cached spacy-3.7.1-cp310-cp310-manylinux_2_17_x86_64.manylinux2014_x86_64.whl (6.6 MB)\n",
            "Collecting pathy>=0.10.0 (from spacy->fedml)\n",
            "  Using cached pathy-0.11.0-py3-none-any.whl (47 kB)\n",
            "INFO: pip is looking at multiple versions of fastapi-cli to determine which version is compatible with other requirements. This could take a while.\n",
            "Collecting spacy (from fedml)\n",
            "  Using cached spacy-3.7.0-cp310-cp310-manylinux_2_17_x86_64.manylinux2014_x86_64.whl (6.6 MB)\n",
            "  Using cached spacy-3.6.1-cp310-cp310-manylinux_2_17_x86_64.manylinux2014_x86_64.whl (6.6 MB)\n",
            "Collecting thinc<8.2.0,>=8.1.8 (from spacy->fedml)\n",
            "  Using cached thinc-8.1.12-cp310-cp310-manylinux_2_17_x86_64.manylinux2014_x86_64.whl (919 kB)\n",
            "Collecting spacy (from fedml)\n",
            "  Using cached spacy-3.6.0-cp310-cp310-manylinux_2_17_x86_64.manylinux2014_x86_64.whl (6.7 MB)\n",
            "INFO: pip is looking at multiple versions of spacy to determine which version is compatible with other requirements. This could take a while.\n",
            "  Using cached spacy-3.5.4-cp310-cp310-manylinux_2_17_x86_64.manylinux2014_x86_64.whl (6.6 MB)\n",
            "  Using cached spacy-3.5.3-cp310-cp310-manylinux_2_17_x86_64.manylinux2014_x86_64.whl (6.6 MB)\n",
            "Collecting typer<0.8.0,>=0.3.0 (from spacy->fedml)\n",
            "  Using cached typer-0.7.0-py3-none-any.whl (38 kB)\n",
            "Collecting spacy (from fedml)\n",
            "  Using cached spacy-3.5.2-cp310-cp310-manylinux_2_17_x86_64.manylinux2014_x86_64.whl (6.6 MB)\n",
            "  Using cached spacy-3.5.1-cp310-cp310-manylinux_2_17_x86_64.manylinux2014_x86_64.whl (6.6 MB)\n",
            "  Using cached spacy-3.5.0-cp310-cp310-manylinux_2_17_x86_64.manylinux2014_x86_64.whl (6.6 MB)\n",
            "  Using cached spacy-3.4.4-cp310-cp310-manylinux_2_17_x86_64.manylinux2014_x86_64.whl (6.5 MB)\n",
            "Collecting wasabi<1.1.0,>=0.9.1 (from spacy->fedml)\n",
            "  Using cached wasabi-0.10.1-py3-none-any.whl (26 kB)\n",
            "Collecting spacy (from fedml)\n",
            "  Using cached spacy-3.4.3-cp310-cp310-manylinux_2_17_x86_64.manylinux2014_x86_64.whl (6.5 MB)\n",
            "INFO: pip is looking at multiple versions of spacy to determine which version is compatible with other requirements. This could take a while.\n",
            "  Using cached spacy-3.4.2-cp310-cp310-manylinux_2_17_x86_64.manylinux2014_x86_64.whl (6.5 MB)\n",
            "Collecting typer<0.5.0,>=0.3.0 (from spacy->fedml)\n",
            "  Using cached typer-0.4.2-py3-none-any.whl (27 kB)\n",
            "Collecting spacy (from fedml)\n",
            "  Using cached spacy-3.4.1-cp310-cp310-manylinux_2_17_x86_64.manylinux2014_x86_64.whl (6.4 MB)\n",
            "  Using cached spacy-3.4.0-cp310-cp310-manylinux_2_17_x86_64.manylinux2014_x86_64.whl (6.4 MB)\n",
            "  Using cached spacy-3.3.3-cp310-cp310-manylinux_2_17_x86_64.manylinux2014_x86_64.whl (6.3 MB)\n",
            "Collecting thinc<8.1.0,>=8.0.14 (from spacy->fedml)\n",
            "  Using cached thinc-8.0.17-cp310-cp310-manylinux_2_17_x86_64.manylinux2014_x86_64.whl (659 kB)\n",
            "Requirement already satisfied: blis<0.8.0,>=0.4.0 in /usr/local/lib/python3.10/dist-packages (from spacy->fedml) (0.7.11)\n",
            "Collecting spacy (from fedml)\n",
            "  Using cached spacy-3.3.2-cp310-cp310-manylinux_2_17_x86_64.manylinux2014_x86_64.whl (6.3 MB)\n",
            "INFO: This is taking longer than usual. You might need to provide the dependency resolver with stricter constraints to reduce runtime. See https://pip.pypa.io/warnings/backtracking for guidance. If you want to abort this run, press Ctrl + C.\n",
            "  Using cached spacy-3.3.1-cp310-cp310-manylinux_2_17_x86_64.manylinux2014_x86_64.whl (6.3 MB)\n",
            "  Using cached spacy-3.3.0-cp310-cp310-manylinux_2_17_x86_64.manylinux2014_x86_64.whl (6.3 MB)\n",
            "  Using cached spacy-3.2.6-cp310-cp310-manylinux_2_17_x86_64.manylinux2014_x86_64.whl (6.1 MB)\n",
            "  Using cached spacy-3.2.5-cp310-cp310-manylinux_2_17_x86_64.manylinux2014_x86_64.whl (6.1 MB)\n",
            "  Using cached spacy-3.2.4-cp310-cp310-manylinux_2_17_x86_64.manylinux2014_x86_64.whl (6.1 MB)\n",
            "Collecting click (from fedml)\n",
            "  Using cached click-8.0.4-py3-none-any.whl (97 kB)\n",
            "Collecting spacy (from fedml)\n",
            "  Using cached spacy-3.2.3-cp310-cp310-manylinux_2_17_x86_64.manylinux2014_x86_64.whl (6.1 MB)\n",
            "  Using cached spacy-3.2.2-cp310-cp310-manylinux_2_17_x86_64.manylinux2014_x86_64.whl (6.1 MB)\n",
            "  Using cached spacy-3.2.1-cp310-cp310-manylinux_2_17_x86_64.manylinux2014_x86_64.whl (6.1 MB)\n",
            "  Using cached spacy-3.2.0-cp310-cp310-manylinux_2_17_x86_64.manylinux2014_x86_64.whl (6.0 MB)\n",
            "  Using cached spacy-3.1.7-cp310-cp310-manylinux_2_17_x86_64.manylinux2014_x86_64.whl (6.0 MB)\n",
            "  Using cached spacy-3.1.6-cp310-cp310-manylinux_2_17_x86_64.manylinux2014_x86_64.whl (6.0 MB)\n",
            "  Using cached spacy-3.1.5-cp310-cp310-manylinux_2_17_x86_64.manylinux2014_x86_64.whl (6.0 MB)\n",
            "  Using cached spacy-3.1.4-cp310-cp310-manylinux_2_17_x86_64.manylinux2014_x86_64.whl (6.0 MB)\n",
            "  Using cached spacy-3.1.3.tar.gz (1.0 MB)\n",
            "  Installing build dependencies ... \u001b[?25l\u001b[?25hdone\n",
            "  Getting requirements to build wheel ... \u001b[?25l\u001b[?25hdone\n",
            "  Installing backend dependencies ... \u001b[?25l\u001b[?25hdone\n",
            "  Preparing metadata (pyproject.toml) ... \u001b[?25l\u001b[?25hdone\n",
            "  Using cached spacy-3.1.2.tar.gz (1.0 MB)\n",
            "  Installing build dependencies ... \u001b[?25l\u001b[?25hdone\n",
            "  Getting requirements to build wheel ... \u001b[?25l\u001b[?25hdone\n",
            "  Installing backend dependencies ... \u001b[?25l\u001b[?25hdone\n",
            "  Preparing metadata (pyproject.toml) ... \u001b[?25l\u001b[?25hdone\n",
            "Collecting typer<0.4.0,>=0.3.0 (from spacy->fedml)\n",
            "  Using cached typer-0.3.2-py3-none-any.whl (21 kB)\n",
            "Collecting spacy (from fedml)\n",
            "  Using cached spacy-3.1.1.tar.gz (1.0 MB)\n"
          ]
        }
      ],
      "source": [
        "!pip install fedml\n",
        "from models.Fed import FedAvg\n",
        "\n",
        "\n",
        "import os.path\n",
        "\n",
        "import matplotlib.pyplot as plt\n",
        "import copy\n",
        "import numpy as np\n",
        "from torchvision import datasets, transforms\n",
        "import torch\n",
        "\n",
        "from utils.data import build_iid_data, build_noniid_data, draw_data_distribution, build_dir_data\n",
        "from utils.options import args_parser\n",
        "from models.Client import Local\n",
        "from models.Nets import CNNMnist, CNNCifar\n",
        "from models.Fed import FedAvg\n",
        "from utils.test import test_img\n",
        "\n",
        "#Create Data Splits for each client\n",
        "if __name__ == '__main__':\n",
        "    args = args_parser()\n",
        "\n",
        "    log_root = \"./log\"\n",
        "    os.makedirs(log_root, exist_ok=True)\n",
        "    log_path = os.path.join(log_root, f\"{args.dataset}-B={args.local_bs}-E={args.local_ep}-{'iid' if args.iid else 'noniid'}\")\n",
        "    os.makedirs(log_path, exist_ok=True)\n",
        "    args.device = torch.device('cuda:{}'.format(args.gpu) if torch.cuda.is_available() and args.gpu != -1 else 'cpu')\n",
        "\n",
        "    if args.dataset == 'mnist':\n",
        "        trans_mnist = transforms.Compose([transforms.ToTensor(), transforms.Normalize((0.1307,), (0.3081,))])\n",
        "        dataset_train = datasets.MNIST('../data/mnist/', train=True, download=True, transform=trans_mnist)\n",
        "        dataset_test = datasets.MNIST('../data/mnist/', train=False, download=True, transform=trans_mnist)\n",
        "    elif args.dataset == 'cifar':\n",
        "        trans_cifar = transforms.Compose([transforms.ToTensor(), transforms.Normalize((0.5, 0.5, 0.5), (0.5, 0.5, 0.5))])\n",
        "        dataset_train = datasets.CIFAR10('../data/cifar', train=True, download=True, transform=trans_cifar)\n",
        "        dataset_test = datasets.CIFAR10('../data/cifar', train=False, download=True, transform=trans_cifar)\n",
        "    else:\n",
        "        exit('Error: unrecognized dataset')\n",
        "\n",
        "    if args.iid:\n",
        "        dict_users = build_iid_data(dataset_train, args.num_users)\n",
        "    else:\n",
        "        if args.dir:\n",
        "            dict_users = build_dir_data(dataset_train, args.num_users, args.dir_alpha)\n",
        "        else:\n",
        "            dict_users = build_noniid_data(dataset_train, args.num_users)\n",
        "\n",
        "    draw_data_distribution(dict_users, dataset_train, args.num_classes, fig_path=log_path)\n",
        "\n",
        "    # build model\n",
        "    if args.model == 'cnn' and args.dataset == 'cifar':\n",
        "        net_glob = CNNCifar(args=args).to(args.device)\n",
        "    elif args.model == 'cnn' and args.dataset == 'mnist':\n",
        "        net_glob = CNNMnist(args=args).to(args.device)\n",
        "    else:\n",
        "        exit('Error: unrecognized model')\n",
        "\n",
        "    net_glob.train()\n",
        "\n",
        "    # copy weights\n",
        "    w_glob = net_glob.state_dict()\n",
        "    w_glob = FedAvg(w_locals)\n",
        "\n",
        "    # training\n",
        "    loss_train = []\n",
        "    acc_file = os.path.join(log_path, \"accuracy.dat\")\n",
        "    acc_f = open(acc_file, \"w\", encoding=\"utf-8\")\n",
        "\n",
        "    loss_file = os.path.join(log_path, \"loss.dat\")\n",
        "    loss_f = open(loss_file, \"w\", encoding=\"utf-8\")\n",
        "\n",
        "    client_loss_file = os.path.join(log_path, \"client_avg_loss.dat\")\n",
        "    client_loss_f = open(client_loss_file, \"w\", encoding=\"utf-8\")\n",
        "\n",
        "    for iter_ in range(args.epochs):\n",
        "        print(f\"---Round {iter_}---\")\n",
        "        loss_locals = []\n",
        "        w_locals = []\n",
        "        m = max(int(args.frac * args.num_users), 1)\n",
        "        idxs_users = np.random.choice(range(args.num_users), m, replace=False)\n",
        "        for idx in idxs_users:\n",
        "            local = Local(args=args, dataset=dataset_train, idxs=dict_users[idx])\n",
        "            w, loss = local.train(net=copy.deepcopy(net_glob).to(args.device))\n",
        "            w_locals.append(copy.deepcopy(w))\n",
        "            loss_locals.append(copy.deepcopy(loss))\n",
        "\n",
        "        client_avg_loss = sum(loss_locals) / len(loss_locals)\n",
        "        print(f\"Client Train Avg Loss {client_avg_loss:.2f}\")\n",
        "        client_loss_f.write(str(client_avg_loss))\n",
        "        client_loss_f.flush()\n",
        "\n",
        "        # update global weights\n",
        "        w_glob = FedAvg(w_locals)\n",
        "        # copy weight to net_glob\n",
        "        net_glob.load_state_dict(w_glob)\n",
        "        net_glob.eval()\n",
        "\n",
        "        acc_test, loss_test = test_img(net_glob, dataset_test, args)\n",
        "        acc_f.write(str(acc_test) + \"\\n\")\n",
        "        acc_f.flush()\n",
        "        loss_f.write(str(loss_test) + \"\\n\")\n",
        "        loss_f.flush()\n",
        "\n",
        "        print(\"Global Testing accuracy: {:.2f}\".format(acc_test))"
      ]
    }
  ],
  "metadata": {
    "colab": {
      "provenance": [],
      "include_colab_link": true
    },
    "kernelspec": {
      "display_name": "Python 3",
      "name": "python3"
    },
    "language_info": {
      "name": "python"
    }
  },
  "nbformat": 4,
  "nbformat_minor": 0
}