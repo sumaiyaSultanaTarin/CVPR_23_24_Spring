{
  "nbformat": 4,
  "nbformat_minor": 0,
  "metadata": {
    "colab": {
      "provenance": [],
      "authorship_tag": "ABX9TyNfbyJCXIReCfXaQKIMlAmJ",
      "include_colab_link": true
    },
    "kernelspec": {
      "name": "python3",
      "display_name": "Python 3"
    },
    "language_info": {
      "name": "python"
    }
  },
  "cells": [
    {
      "cell_type": "markdown",
      "metadata": {
        "id": "view-in-github",
        "colab_type": "text"
      },
      "source": [
        "<a href=\"https://colab.research.google.com/github/sumaiyaSultanaTarin/CVPR_23_24_Spring/blob/main/Python.ipynb\" target=\"_parent\"><img src=\"https://colab.research.google.com/assets/colab-badge.svg\" alt=\"Open In Colab\"/></a>"
      ]
    },
    {
      "cell_type": "markdown",
      "source": [
        "**LIST OPERATIONS**"
      ],
      "metadata": {
        "id": "TC2oAmf-kCrO"
      }
    },
    {
      "cell_type": "code",
      "execution_count": 5,
      "metadata": {
        "colab": {
          "base_uri": "https://localhost:8080/"
        },
        "id": "OcTk9lEdfwzM",
        "outputId": "af044294-eb20-49c2-9247-464fb2ab27d9"
      },
      "outputs": [
        {
          "output_type": "stream",
          "name": "stdout",
          "text": [
            "[1, 4, 9, 16, 25, 36, 49, 64, 81, 100]\n",
            "[2, 4, 6, 8, 10, 12, 14, 16, 18, 20]\n"
          ]
        }
      ],
      "source": [
        "a = list(range(1,11))\n",
        "b = [ i**2 for i in a]\n",
        "print(b)\n",
        "print(list(map(lambda l: l+l, a)))"
      ]
    },
    {
      "cell_type": "markdown",
      "source": [
        "**TUPLE OPERATIONS**"
      ],
      "metadata": {
        "id": "EGsU8rWYkSwJ"
      }
    },
    {
      "cell_type": "markdown",
      "source": [],
      "metadata": {
        "id": "DXSAH4SVrrzF"
      }
    },
    {
      "cell_type": "code",
      "source": [
        "nums = (2,4,6,8,10)\n",
        "print(tuple(map(lambda l: l*l, nums)))"
      ],
      "metadata": {
        "colab": {
          "base_uri": "https://localhost:8080/"
        },
        "id": "_i6SDwYJkBof",
        "outputId": "94ad4fc2-74f2-4381-8a76-e63f0dd99ac5"
      },
      "execution_count": 7,
      "outputs": [
        {
          "output_type": "stream",
          "name": "stdout",
          "text": [
            "(4, 16, 36, 64, 100)\n"
          ]
        }
      ]
    },
    {
      "cell_type": "markdown",
      "source": [
        "**SET OPERATIONS**"
      ],
      "metadata": {
        "id": "xZ8PXfRclb1L"
      }
    },
    {
      "cell_type": "code",
      "source": [
        "set1 = {1,3,5,7}\n",
        "set2 = {3,7,9}\n",
        "\n",
        "Union = set1.union(set2)\n",
        "Intersection = set1.intersection(set2)\n",
        "print(f\"Union of Two sets :{Union}\")\n",
        "print(f\"Intersections of Two sets :{Intersection}\")\n"
      ],
      "metadata": {
        "colab": {
          "base_uri": "https://localhost:8080/"
        },
        "id": "zNaNLIaSlfmk",
        "outputId": "66afd748-c657-4be7-ed20-1bd6c667c126"
      },
      "execution_count": 12,
      "outputs": [
        {
          "output_type": "stream",
          "name": "stdout",
          "text": [
            "Union of Two sets :{1, 3, 5, 7, 9}\n",
            "Intersections of Two sets :{3, 7}\n"
          ]
        }
      ]
    },
    {
      "cell_type": "markdown",
      "source": [
        "**Dictionary Operations**"
      ],
      "metadata": {
        "id": "208To26bn0yg"
      }
    },
    {
      "cell_type": "code",
      "source": [
        "dicts = {'a':97, 'b':98, 'c':99, 'd':100, 'e':101}\n",
        "print(f\"Dictionary: {dicts}\")\n",
        "print(type(dicts))\n"
      ],
      "metadata": {
        "colab": {
          "base_uri": "https://localhost:8080/"
        },
        "id": "dNGJRhk6n4V8",
        "outputId": "2d2201ed-32af-4447-b863-47b68cd88292"
      },
      "execution_count": 14,
      "outputs": [
        {
          "output_type": "stream",
          "name": "stdout",
          "text": [
            "Dictionary: {'a': 97, 'b': 98, 'c': 99, 'd': 100, 'e': 101}\n",
            "<class 'dict'>\n"
          ]
        }
      ]
    },
    {
      "cell_type": "markdown",
      "source": [
        "**Functional Programming**"
      ],
      "metadata": {
        "id": "OtV0uf5NpTnn"
      }
    },
    {
      "cell_type": "code",
      "source": [
        "def square(x):\n",
        "  return x*x\n",
        "\n",
        "  a = list(range(1,11))\n",
        "  print(a)\n",
        "\n"
      ],
      "metadata": {
        "id": "3uoDgGyRpXjO"
      },
      "execution_count": 19,
      "outputs": []
    }
  ]
}